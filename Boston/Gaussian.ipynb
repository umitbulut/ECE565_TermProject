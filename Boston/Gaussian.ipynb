{
 "cells": [
  {
   "cell_type": "code",
   "execution_count": 3,
   "metadata": {},
   "outputs": [],
   "source": [
    "import pandas as pd\n",
    "from sklearn.naive_bayes import GaussianNB \n",
    "from sklearn.cross_validation import train_test_split \n",
    "from sklearn.metrics import accuracy_score "
   ]
  },
  {
   "cell_type": "code",
   "execution_count": 4,
   "metadata": {},
   "outputs": [],
   "source": [
    "data = pd.read_csv('data.csv', index_col=0)"
   ]
  },
  {
   "cell_type": "code",
   "execution_count": 12,
   "metadata": {},
   "outputs": [],
   "source": [
    "predictors = \"crim,zn,chas,rm,dis,rad,ptratio\".split(',')\n",
    "X = data[predictors]\n",
    "y = data.house_type"
   ]
  },
  {
   "cell_type": "code",
   "execution_count": 13,
   "metadata": {},
   "outputs": [
    {
     "name": "stdout",
     "output_type": "stream",
     "text": [
      "GaussianNB(priors=None)\n",
      "0.8090909090909091\n"
     ]
    }
   ],
   "source": [
    "X_train, X_test, y_train, y_test = train_test_split(X,y,test_size= .33, random_state=17)\n",
    "\n",
    "GausNB = GaussianNB()\n",
    "GausNB.fit(X_train, y_train) \n",
    "print (GausNB)\n",
    "\n",
    "y_pred = GausNB.predict(X_test) \n",
    "print(accuracy_score(y_test, y_pred))"
   ]
  },
  {
   "cell_type": "code",
   "execution_count": 14,
   "metadata": {},
   "outputs": [
    {
     "data": {
      "text/plain": [
       "array(['luxury', 'standard', 'standard', 'luxury', 'standard', 'standard',\n",
       "       'luxury', 'luxury', 'standard', 'standard', 'standard', 'luxury',\n",
       "       'standard', 'standard', 'luxury', 'standard', 'luxury', 'luxury',\n",
       "       'luxury', 'standard', 'standard', 'standard', 'luxury', 'luxury',\n",
       "       'luxury', 'standard', 'luxury', 'luxury', 'luxury', 'luxury',\n",
       "       'luxury', 'standard', 'standard', 'luxury', 'luxury', 'luxury',\n",
       "       'luxury', 'standard', 'luxury', 'luxury', 'standard', 'luxury',\n",
       "       'luxury', 'standard', 'standard', 'standard', 'luxury', 'luxury',\n",
       "       'luxury', 'luxury', 'standard', 'standard', 'standard', 'luxury',\n",
       "       'standard', 'luxury', 'luxury', 'luxury', 'luxury', 'luxury',\n",
       "       'standard', 'luxury', 'luxury', 'luxury', 'luxury', 'luxury',\n",
       "       'luxury', 'standard', 'luxury', 'luxury', 'standard', 'luxury',\n",
       "       'standard', 'luxury', 'luxury', 'luxury', 'luxury', 'standard',\n",
       "       'standard', 'luxury', 'luxury', 'standard', 'standard', 'luxury',\n",
       "       'standard', 'luxury', 'standard', 'luxury', 'standard', 'standard',\n",
       "       'luxury', 'luxury', 'luxury', 'standard', 'luxury', 'luxury',\n",
       "       'standard', 'standard', 'standard', 'standard', 'standard',\n",
       "       'standard', 'luxury', 'luxury', 'standard', 'standard', 'luxury',\n",
       "       'luxury', 'standard', 'luxury'], dtype='<U8')"
      ]
     },
     "execution_count": 14,
     "metadata": {},
     "output_type": "execute_result"
    }
   ],
   "source": [
    "y_pred"
   ]
  },
  {
   "cell_type": "code",
   "execution_count": 15,
   "metadata": {},
   "outputs": [],
   "source": [
    "testData = pd.read_csv('Data/test.csv', index_col='ID')"
   ]
  },
  {
   "cell_type": "code",
   "execution_count": 16,
   "metadata": {},
   "outputs": [],
   "source": [
    "tX = testData[predictors]\n",
    "house_type = GausNB.predict(tX)"
   ]
  },
  {
   "cell_type": "code",
   "execution_count": 19,
   "metadata": {},
   "outputs": [],
   "source": [
    "testData['house_type'] = house_type\n",
    "for i in ['crim', 'zn', 'indus', 'chas', 'nox', 'rm', 'age', 'dis', 'rad', 'tax',\n",
    "       'ptratio', 'black', 'lstat']:\n",
    "    del testData[i]"
   ]
  },
  {
   "cell_type": "code",
   "execution_count": 18,
   "metadata": {},
   "outputs": [
    {
     "data": {
      "text/plain": [
       "Index(['crim', 'zn', 'indus', 'chas', 'nox', 'rm', 'age', 'dis', 'rad', 'tax',\n",
       "       'ptratio', 'black', 'lstat'],\n",
       "      dtype='object')"
      ]
     },
     "execution_count": 18,
     "metadata": {},
     "output_type": "execute_result"
    }
   ],
   "source": [
    "testData.columns"
   ]
  },
  {
   "cell_type": "code",
   "execution_count": 20,
   "metadata": {},
   "outputs": [],
   "source": [
    "testData.to_csv('testGaus.csv', sep=',')"
   ]
  },
  {
   "cell_type": "code",
   "execution_count": null,
   "metadata": {},
   "outputs": [],
   "source": []
  }
 ],
 "metadata": {
  "kernelspec": {
   "display_name": "Python 3",
   "language": "python",
   "name": "python3"
  },
  "language_info": {
   "codemirror_mode": {
    "name": "ipython",
    "version": 3
   },
   "file_extension": ".py",
   "mimetype": "text/x-python",
   "name": "python",
   "nbconvert_exporter": "python",
   "pygments_lexer": "ipython3",
   "version": "3.6.4"
  }
 },
 "nbformat": 4,
 "nbformat_minor": 2
}
