{
 "cells": [
  {
   "cell_type": "code",
   "execution_count": 2,
   "metadata": {},
   "outputs": [
    {
     "name": "stderr",
     "output_type": "stream",
     "text": [
      "/home/osiyow/Workspace/pds/lib/python3.6/site-packages/sklearn/cross_validation.py:41: DeprecationWarning: This module was deprecated in version 0.18 in favor of the model_selection module into which all the refactored classes and functions are moved. Also note that the interface of the new CV iterators are different from that of this module. This module will be removed in 0.20.\n",
      "  \"This module will be removed in 0.20.\", DeprecationWarning)\n"
     ]
    }
   ],
   "source": [
    "import pandas as pd\n",
    "from sklearn.ensemble import RandomForestRegressor\n",
    "from sklearn.cross_validation import train_test_split \n",
    "from sklearn.metrics import mean_absolute_error"
   ]
  },
  {
   "cell_type": "code",
   "execution_count": 9,
   "metadata": {},
   "outputs": [],
   "source": [
    "trainData = pd.read_csv('data.csv')\n",
    "\n",
    "smoker = []\n",
    "for i in trainData.smoker:\n",
    "    if i == 'yes':\n",
    "        smoker.append(1)\n",
    "    else:\n",
    "        smoker.append(0)\n",
    "trainData['smoker_binary'] = smoker\n",
    "\n",
    "gender = []\n",
    "for i in trainData.gender:\n",
    "    if i == 'female':\n",
    "        gender.append(1)\n",
    "    else:\n",
    "        gender.append(0)\n",
    "trainData['gender_numeric'] = gender\n",
    "\n",
    "region = []\n",
    "for i in trainData.region:\n",
    "    if i == 'southeast':\n",
    "        region.append(1)\n",
    "    elif i == 'southwest':\n",
    "        region.append(2)\n",
    "    elif i == 'northwest':\n",
    "        region.append(3)\n",
    "    else:\n",
    "        region.append(4)\n",
    "trainData['region_numeric'] = region\n",
    "\n",
    "del trainData['region']\n",
    "del trainData['smoker']\n",
    "del trainData['gender']\n",
    "\n",
    "\n",
    "trainRegressors = \"age,bmi,children,region_numeric,smoker_binary,gender_numeric\".split(\",\")\n",
    "X = trainData[trainRegressors]\n",
    "y = trainData.charges\n",
    "\n",
    "X_train, X_test, y_train, y_test = train_test_split(X,y,test_size= .2, random_state=17)"
   ]
  },
  {
   "cell_type": "code",
   "execution_count": 10,
   "metadata": {},
   "outputs": [
    {
     "data": {
      "text/plain": [
       "RandomForestRegressor(bootstrap=True, criterion='mse', max_depth=None,\n",
       "           max_features='auto', max_leaf_nodes=None,\n",
       "           min_impurity_decrease=0.0, min_impurity_split=None,\n",
       "           min_samples_leaf=1, min_samples_split=2,\n",
       "           min_weight_fraction_leaf=0.0, n_estimators=10, n_jobs=1,\n",
       "           oob_score=False, random_state=None, verbose=0, warm_start=False)"
      ]
     },
     "execution_count": 10,
     "metadata": {},
     "output_type": "execute_result"
    }
   ],
   "source": [
    "forest_model = RandomForestRegressor()\n",
    "forest_model.fit(X_train, y_train)"
   ]
  },
  {
   "cell_type": "code",
   "execution_count": 11,
   "metadata": {},
   "outputs": [
    {
     "name": "stdout",
     "output_type": "stream",
     "text": [
      "2532.1778835376244\n"
     ]
    }
   ],
   "source": [
    "y_predict = forest_model.predict(X_test)\n",
    "print(mean_absolute_error(y_test, y_predict))"
   ]
  },
  {
   "cell_type": "code",
   "execution_count": 7,
   "metadata": {},
   "outputs": [],
   "source": []
  },
  {
   "cell_type": "code",
   "execution_count": null,
   "metadata": {},
   "outputs": [],
   "source": []
  },
  {
   "cell_type": "code",
   "execution_count": null,
   "metadata": {},
   "outputs": [],
   "source": []
  }
 ],
 "metadata": {
  "kernelspec": {
   "display_name": "Python 3",
   "language": "python",
   "name": "python3"
  },
  "language_info": {
   "codemirror_mode": {
    "name": "ipython",
    "version": 3
   },
   "file_extension": ".py",
   "mimetype": "text/x-python",
   "name": "python",
   "nbconvert_exporter": "python",
   "pygments_lexer": "ipython3",
   "version": "3.6.4"
  }
 },
 "nbformat": 4,
 "nbformat_minor": 2
}
