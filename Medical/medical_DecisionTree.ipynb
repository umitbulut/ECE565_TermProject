{
 "cells": [
  {
   "cell_type": "code",
   "execution_count": 2,
   "metadata": {},
   "outputs": [
    {
     "name": "stderr",
     "output_type": "stream",
     "text": [
      "/home/osiyow/Workspace/pds/lib/python3.6/site-packages/sklearn/cross_validation.py:41: DeprecationWarning: This module was deprecated in version 0.18 in favor of the model_selection module into which all the refactored classes and functions are moved. Also note that the interface of the new CV iterators are different from that of this module. This module will be removed in 0.20.\n",
      "  \"This module will be removed in 0.20.\", DeprecationWarning)\n"
     ]
    }
   ],
   "source": [
    "import pandas as pd\n",
    "import numpy as np\n",
    "from sklearn.tree import DecisionTreeRegressor\n",
    "from sklearn.cross_validation import train_test_split \n",
    "from sklearn.metrics import mean_absolute_error"
   ]
  },
  {
   "cell_type": "code",
   "execution_count": 33,
   "metadata": {},
   "outputs": [],
   "source": [
    "trainData = pd.read_csv('data.csv')\n",
    "\n",
    "smoker = []\n",
    "for i in trainData.smoker:\n",
    "    if i == 'yes':\n",
    "        smoker.append(1)\n",
    "    else:\n",
    "        smoker.append(0)\n",
    "trainData['smoker_binary'] = smoker\n",
    "\n",
    "gender = []\n",
    "for i in trainData.gender:\n",
    "    if i == 'female':\n",
    "        gender.append(1)\n",
    "    else:\n",
    "        gender.append(0)\n",
    "trainData['gender_numeric'] = gender\n",
    "\n",
    "region = []\n",
    "for i in trainData.region:\n",
    "    if i == 'southeast':\n",
    "        region.append(1)\n",
    "    elif i == 'southwest':\n",
    "        region.append(2)\n",
    "    elif i == 'northwest':\n",
    "        region.append(3)\n",
    "    else:\n",
    "        region.append(4)\n",
    "trainData['region_numeric'] = region\n",
    "\n",
    "del trainData['region']\n",
    "del trainData['smoker']\n",
    "del trainData['gender']\n",
    "\n",
    "\n",
    "trainRegressors = \"age,bmi,children,region_numeric,smoker_binary,gender_numeric\".split(\",\")\n",
    "X = trainData[trainRegressors]\n",
    "y = trainData.charges\n",
    "\n",
    "X_train, X_test, y_train, y_test = train_test_split(X,y,test_size= .4, random_state=17)\n"
   ]
  },
  {
   "cell_type": "code",
   "execution_count": 34,
   "metadata": {},
   "outputs": [
    {
     "data": {
      "text/plain": [
       "DecisionTreeRegressor(criterion='mse', max_depth=None, max_features=None,\n",
       "           max_leaf_nodes=None, min_impurity_decrease=0.0,\n",
       "           min_impurity_split=None, min_samples_leaf=1,\n",
       "           min_samples_split=2, min_weight_fraction_leaf=0.0,\n",
       "           presort=False, random_state=None, splitter='best')"
      ]
     },
     "execution_count": 34,
     "metadata": {},
     "output_type": "execute_result"
    }
   ],
   "source": [
    "medical_tree_model = DecisionTreeRegressor()\n",
    "medical_tree_model.fit(X_train,y_train)"
   ]
  },
  {
   "cell_type": "code",
   "execution_count": 35,
   "metadata": {},
   "outputs": [
    {
     "name": "stdout",
     "output_type": "stream",
     "text": [
      "2606.967607945896\n"
     ]
    }
   ],
   "source": [
    "predict_charges = medical_tree_model.predict(X_test)\n",
    "print(mean_absolute_error(predict_charges, y_test))"
   ]
  },
  {
   "cell_type": "code",
   "execution_count": null,
   "metadata": {},
   "outputs": [],
   "source": []
  },
  {
   "cell_type": "code",
   "execution_count": null,
   "metadata": {},
   "outputs": [],
   "source": []
  },
  {
   "cell_type": "code",
   "execution_count": null,
   "metadata": {},
   "outputs": [],
   "source": []
  }
 ],
 "metadata": {
  "kernelspec": {
   "display_name": "Python 3",
   "language": "python",
   "name": "python3"
  },
  "language_info": {
   "codemirror_mode": {
    "name": "ipython",
    "version": 3
   },
   "file_extension": ".py",
   "mimetype": "text/x-python",
   "name": "python",
   "nbconvert_exporter": "python",
   "pygments_lexer": "ipython3",
   "version": "3.6.4"
  }
 },
 "nbformat": 4,
 "nbformat_minor": 2
}
